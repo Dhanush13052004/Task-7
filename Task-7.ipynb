{
 "cells": [
  {
   "cell_type": "code",
   "execution_count": 2,
   "id": "1ad4915c",
   "metadata": {},
   "outputs": [
    {
     "name": "stdout",
     "output_type": "stream",
     "text": [
      "Enter n: 5\n",
      "Feature Vector: [0.0436438782063594, 0.41790782023228323, 0.6233679368817107, 0.9214615620275266, 0.45732229595089635]\n",
      "Mean: 0.4927406986597552\n",
      "Variance: 0.08188148622756804\n"
     ]
    }
   ],
   "source": [
    "import numpy as np\n",
    "\n",
    "def compute_mean_and_variance(vector):\n",
    "    n = len(vector)\n",
    "    mean = sum(vector) / n\n",
    "    variance = sum((x - mean) ** 2 for x in vector) / n\n",
    "    return mean, variance\n",
    "\n",
    "def main():\n",
    "    n = int(input(\"Enter n: \"))\n",
    "    feature_vector = np.random.rand(1, n)\n",
    "    feature_vector = list(feature_vector[0])\n",
    "    mean, variance = compute_mean_and_variance(feature_vector)\n",
    "    print(\"Feature Vector:\", feature_vector)\n",
    "    print(\"Mean:\", mean)\n",
    "    print(\"Variance:\", variance)\n",
    "\n",
    "if __name__ == \"__main__\":\n",
    "    main()\n",
    "    "
   ]
  },
  {
   "cell_type": "markdown",
   "id": "934eb995",
   "metadata": {},
   "source": [
    "# Mean (Sample Mean):\n",
    "\n",
    "The mean of a sample is the average value of the data points in that sample.\n",
    "It is calculated by summing up all the values in the sample and dividing by the number of observations.\n",
    "The sample mean provides a measure of central tendency, representing the \"typical\" value in the sample.\n",
    "It's often used as a representative value to summarize the data set.\n",
    "\n",
    "# Variance (Sample Variance):\n",
    "\n",
    "The variance of a sample measures how much the values in the sample vary from the sample mean.\n",
    "It quantifies the spread or dispersion of the data points around the sample mean.\n",
    "To calculate the variance, the differences between each data point and the sample mean are squared, summed, and then divided by the number of observations minus one (N - 1).\n",
    "A higher variance indicates that the data points are more spread out from the mean, while a lower variance suggests that the data points are closer to the mean.\n",
    "Variance is a fundamental measure of variability and is widely used in statistics and data analysis to understand the distribution of data."
   ]
  },
  {
   "cell_type": "code",
   "execution_count": 4,
   "id": "14fb64a5",
   "metadata": {},
   "outputs": [
    {
     "name": "stdout",
     "output_type": "stream",
     "text": [
      "Covariance: -2.5\n"
     ]
    }
   ],
   "source": [
    "def compute_covariance(vector1, vector2):\n",
    "    if len(vector1) != len(vector2):\n",
    "        raise ValueError(\"Vectors must have the same length\")\n",
    "\n",
    "    n = len(vector1)\n",
    "    mean1 = sum(vector1) / n\n",
    "    mean2 = sum(vector2) / n\n",
    "    pairwise_diff_sum = sum((vector1[i] - mean1) * (vector2[i] - mean2) for i in range(n))\n",
    "    covariance = pairwise_diff_sum / (n - 1)\n",
    "    return covariance\n",
    "\n",
    "vector1 = [1, 2, 3, 4, 5]\n",
    "vector2 = [5, 4, 3, 2, 1]\n",
    "\n",
    "covariance = compute_covariance(vector1, vector2)\n",
    "print(\"Covariance:\", covariance)\n"
   ]
  },
  {
   "cell_type": "markdown",
   "id": "86d3c5b6",
   "metadata": {},
   "source": [
    "# The covariance between two vectors represents the degree to which the elements of the vectors vary together. More specifically:\n",
    "\n",
    "If the covariance is positive, it indicates that when one vector has a high value, the other tends to have a high value as well. Similarly, when one vector has a low value, the other tends to have a low value.\n",
    "\n",
    "If the covariance is negative, it indicates that when one vector has a high value, the other tends to have a low value, and vice versa.\n",
    "\n",
    "If the covariance is close to zero, it suggests that there is little to no linear relationship between the two vectors."
   ]
  },
  {
   "cell_type": "code",
   "execution_count": 5,
   "id": "75074609",
   "metadata": {},
   "outputs": [
    {
     "name": "stdout",
     "output_type": "stream",
     "text": [
      "Correlation: -0.9999999999999998\n"
     ]
    }
   ],
   "source": [
    "import numpy as np\n",
    "\n",
    "def compute_correlation(vector1, vector2):\n",
    "    if len(vector1) != len(vector2):\n",
    "        raise ValueError(\"Vectors must have the same length\")\n",
    "    mean1 = np.mean(vector1)\n",
    "    mean2 = np.mean(vector2)\n",
    "\n",
    "    covariance = np.sum((vector1 - mean1) * (vector2 - mean2)) / len(vector1)\n",
    "\n",
    "    std_dev1 = np.sqrt(np.sum((vector1 - mean1) ** 2) / len(vector1))\n",
    "    std_dev2 = np.sqrt(np.sum((vector2 - mean2) ** 2) / len(vector2))\n",
    "\n",
    "    correlation = covariance / (std_dev1 * std_dev2)\n",
    "    return correlation\n",
    "\n",
    "\n",
    "vector1 = np.array([1, 2, 3, 4, 5])\n",
    "vector2 = np.array([5, 4, 3, 2, 1])\n",
    "\n",
    "correlation = compute_correlation(vector1, vector2)\n",
    "print(\"Correlation:\", correlation)\n"
   ]
  },
  {
   "cell_type": "markdown",
   "id": "abeb1250",
   "metadata": {},
   "source": [
    "# Correlation: \n",
    "Correlation is a statistical measure that describes the extent to which two variables are linearly related to each other. Specifically, the Pearson correlation coefficient, which is what we computed here, ranges from -1 to 1:\n",
    "A correlation of 1 indicates a perfect positive linear relationship, meaning that as one variable increases, the other also increases proportionally.\n",
    "A correlation of -1 indicates a perfect negative linear relationship, meaning that as one variable increases, the other decreases proportionally.\n",
    "A correlation of 0 indicates no linear relationship between the variables."
   ]
  },
  {
   "cell_type": "code",
   "execution_count": 6,
   "id": "12c0e30d",
   "metadata": {},
   "outputs": [
    {
     "name": "stdout",
     "output_type": "stream",
     "text": [
      "Covariance Matrix:\n",
      "[[1. 1. 1. 1.]\n",
      " [1. 1. 1. 1.]\n",
      " [1. 1. 1. 1.]\n",
      " [1. 1. 1. 1.]]\n",
      "\n",
      "Correlation Matrix:\n",
      "[[1. 1. 1. 1.]\n",
      " [1. 1. 1. 1.]\n",
      " [1. 1. 1. 1.]\n",
      " [1. 1. 1. 1.]]\n"
     ]
    }
   ],
   "source": [
    "import numpy as np\n",
    "\n",
    "def compute_covariance_matrix(data):\n",
    "    covariance_matrix = np.cov(data, rowvar=True)\n",
    "    return covariance_matrix\n",
    "\n",
    "def compute_correlation_matrix(data):\n",
    "    correlation_matrix = np.corrcoef(data, rowvar=True)\n",
    "    return correlation_matrix\n",
    "\n",
    "data = np.array([[1, 2, 3], \n",
    "                 [4, 5, 6], \n",
    "                 [7, 8, 9], \n",
    "                 [10, 11, 12]])\n",
    "\n",
    "covariance_matrix = compute_covariance_matrix(data)\n",
    "print(\"Covariance Matrix:\")\n",
    "print(covariance_matrix)\n",
    "\n",
    "correlation_matrix = compute_correlation_matrix(data)\n",
    "print(\"\\nCorrelation Matrix:\")\n",
    "print(correlation_matrix)\n"
   ]
  },
  {
   "cell_type": "code",
   "execution_count": null,
   "id": "d5db8623",
   "metadata": {},
   "outputs": [],
   "source": []
  }
 ],
 "metadata": {
  "kernelspec": {
   "display_name": "Python 3 (ipykernel)",
   "language": "python",
   "name": "python3"
  },
  "language_info": {
   "codemirror_mode": {
    "name": "ipython",
    "version": 3
   },
   "file_extension": ".py",
   "mimetype": "text/x-python",
   "name": "python",
   "nbconvert_exporter": "python",
   "pygments_lexer": "ipython3",
   "version": "3.9.13"
  }
 },
 "nbformat": 4,
 "nbformat_minor": 5
}
